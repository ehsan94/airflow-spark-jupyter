{
 "cells": [
  {
   "cell_type": "markdown",
   "metadata": {},
   "source": [
    "# Spark session"
   ]
  },
  {
   "cell_type": "code",
   "execution_count": 1,
   "metadata": {},
   "outputs": [
    {
     "name": "stderr",
     "output_type": "stream",
     "text": [
      "WARNING: An illegal reflective access operation has occurred\n",
      "WARNING: Illegal reflective access by org.apache.spark.unsafe.Platform (file:/usr/local/spark-3.1.2-bin-hadoop3.2/jars/spark-unsafe_2.12-3.1.2.jar) to constructor java.nio.DirectByteBuffer(long,int)\n",
      "WARNING: Please consider reporting this to the maintainers of org.apache.spark.unsafe.Platform\n",
      "WARNING: Use --illegal-access=warn to enable warnings of further illegal reflective access operations\n",
      "WARNING: All illegal access operations will be denied in a future release\n",
      "22/05/28 21:41:49 WARN NativeCodeLoader: Unable to load native-hadoop library for your platform... using builtin-java classes where applicable\n",
      "Using Spark's default log4j profile: org/apache/spark/log4j-defaults.properties\n",
      "Setting default log level to \"WARN\".\n",
      "To adjust logging level use sc.setLogLevel(newLevel). For SparkR, use setLogLevel(newLevel).\n",
      "22/05/28 21:41:53 WARN TextSocketSourceProvider: The socket source should not be used for production applications! It does not support recovery.\n"
     ]
    },
    {
     "name": "stdout",
     "output_type": "stream",
     "text": [
      "root\n",
      " |-- value: string (nullable = true)\n",
      "\n"
     ]
    },
    {
     "name": "stderr",
     "output_type": "stream",
     "text": [
      "22/05/28 21:42:25 WARN TaskSchedulerImpl: Initial job has not accepted any resources; check your cluster UI to ensure that workers are registered and have sufficient resources\n",
      "22/05/28 21:42:40 WARN TaskSchedulerImpl: Initial job has not accepted any resources; check your cluster UI to ensure that workers are registered and have sufficient resources\n",
      "22/05/28 21:42:55 WARN TaskSchedulerImpl: Initial job has not accepted any resources; check your cluster UI to ensure that workers are registered and have sufficient resources\n"
     ]
    }
   ],
   "source": [
    "from pyspark.sql import SparkSession\n",
    "from pyspark.sql.functions import *\n",
    "from pyspark.sql.types import *\n",
    "from pyspark.sql import functions as F\n",
    "from textblob import TextBlob\n",
    "\n",
    "def preprocessing(lines):\n",
    "    words = lines.select(explode(split(lines.value, \"t_end\")).alias(\"word\"))\n",
    "    words = words.na.replace('', None)\n",
    "    words = words.na.drop()\n",
    "    words = words.withColumn('word', F.regexp_replace('word', r'http\\S+', ''))\n",
    "    words = words.withColumn('word', F.regexp_replace('word', '@\\w+', ''))\n",
    "    words = words.withColumn('word', F.regexp_replace('word', '#', ''))\n",
    "    words = words.withColumn('word', F.regexp_replace('word', 'RT', ''))\n",
    "    words = words.withColumn('word', F.regexp_replace('word', ':', ''))\n",
    "    return words\n",
    "\n",
    "# text classification\n",
    "def polarity_detection(text):\n",
    "    return TextBlob(text).sentiment.polarity\n",
    "def subjectivity_detection(text):\n",
    "    return TextBlob(text).sentiment.subjectivity\n",
    "def text_classification(words):\n",
    "    # polarity detection\n",
    "    polarity_detection_udf = udf(polarity_detection, StringType())\n",
    "    words = words.withColumn(\"polarity\", polarity_detection_udf(\"word\"))\n",
    "    # subjectivity detection\n",
    "    subjectivity_detection_udf = udf(subjectivity_detection, StringType())\n",
    "    words = words.withColumn(\"subjectivity\", subjectivity_detection_udf(\"word\"))\n",
    "    return words\n",
    "\n",
    "if __name__ == \"__main__\":\n",
    "    # create Spark session\n",
    "\n",
    "    spark = SparkSession.builder.appName(\"TwitterSentimentAnalysis\").getOrCreate()\n",
    "\n",
    "    # read the tweet data from socket\n",
    "    lines = spark.readStream.format(\"socket\").option(\"host\", \"0.0.0.0\").option(\"port\", 5656).load()\n",
    "    # Preprocess the data\n",
    "    words = preprocessing(lines)\n",
    "    # text classification to define polarity and subjectivity\n",
    "    words = text_classification(words)\n",
    "\n",
    "    words = words.repartition(10)\n",
    "    query = words.writeStream.queryName(\"all_tweets\")\\\n",
    "        .outputMode(\"append\").format(\"parquet\")\\\n",
    "        .option(\"path\", \"./parc\")\\\n",
    "        .option(\"checkpointLocation\", \"./check\")\\\n",
    "        .trigger(processingTime='60 seconds').start()\n",
    "    query.awaitTermination()"
   ]
  },
  {
   "cell_type": "code",
   "execution_count": 2,
   "metadata": {},
   "outputs": [
    {
     "name": "stderr",
     "output_type": "stream",
     "text": [
      "/opt/conda/lib/python3.9/site-packages/pyspark/sql/context.py:77: FutureWarning: Deprecated in 3.0.0. Use SparkSession.builder.getOrCreate() instead.\n",
      "  warnings.warn(\n"
     ]
    },
    {
     "name": "stdout",
     "output_type": "stream",
     "text": [
      "root\n",
      " |-- created_at: timestamp (nullable = true)\n",
      " |-- text: string (nullable = true)\n",
      " |-- full_text: string (nullable = true)\n",
      " |-- hashtags: array (nullable = true)\n",
      " |    |-- element: string (containsNull = true)\n",
      " |-- retweet_count: string (nullable = true)\n",
      " |-- screen_name: string (nullable = true)\n",
      " |-- description: string (nullable = true)\n",
      " |-- location: string (nullable = true)\n",
      " |-- friends_count: string (nullable = true)\n",
      " |-- followers_count: string (nullable = true)\n",
      " |-- statuses_count: string (nullable = true)\n",
      "\n",
      "+-------------------+------------------------------------------------------------------------------------------------------------------------------------------------+-------------------------------------------------------------------------------------------------------------------------------------------------------------------------------------------------------------------------------------------------------------------------------------------------------------------+-----------------------------------------------------------------------------------------------------------------------------------------------------------------------------------------------------------------------------------------------------------------------------+-------------+---------------+----------------------------------------------------------------------------------------------------------------------------------------------------------------+-------------------------+-------------+---------------+--------------+\n",
      "|created_at         |text                                                                                                                                            |full_text                                                                                                                                                                                                                                                                                                          |hashtags                                                                                                                                                                                                                                                                     |retweet_count|screen_name    |description                                                                                                                                                     |location                 |friends_count|followers_count|statuses_count|\n",
      "+-------------------+------------------------------------------------------------------------------------------------------------------------------------------------+-------------------------------------------------------------------------------------------------------------------------------------------------------------------------------------------------------------------------------------------------------------------------------------------------------------------+-----------------------------------------------------------------------------------------------------------------------------------------------------------------------------------------------------------------------------------------------------------------------------+-------------+---------------+----------------------------------------------------------------------------------------------------------------------------------------------------------------+-------------------------+-------------+---------------+--------------+\n",
      "|2022-05-29 18:29:57|RT @AsadKharal: Imran Khan in Charsadda Today https://t.co/G1INHZDfmW                                                                           |null                                                                                                                                                                                                                                                                                                               |[]                                                                                                                                                                                                                                                                           |0            |tariqnoor56    |null                                                                                                                                                            |null                     |4965         |1454           |10309         |\n",
      "|2022-05-29 18:30:02|RT @asmabotni: @ImranRiazKhan Regime change conspiracy entering in Phase-ll,it’s shame to build relationships with Israel against the ideol…    |@ImranRiazKhan Regime change conspiracy entering in Phase-ll,it’s shame to build relationships with Israel against the ideology of two great leaders Quaid e Azam &amp; Imran Khan https://t.co/iADh3MuasY                                                                                                         |[]                                                                                                                                                                                                                                                                           |0            |AmirShoukt     |Politics News Entertainment Travel Reality TV Lifestyle Fashion & Beauty Government & Politics US & World                                                       |Bahrain                  |123          |59             |6869          |\n",
      "|2022-05-29 18:30:04|RT @PTIofficial: Thread by @Zyyan_Ali on the compilation of video clips on Chairman Imran Khan's stance on Palestine and Israel. He mention…    |Thread by @Zyyan_Ali on the compilation of video clips on Chairman Imran Khan's stance on Palestine and Israel. He mentioned several times that Pakistan will not accept Israel until a fair settlement for Palestine! #اسرائیلی_ایجنٹ_نامنظور                                                                     |[]                                                                                                                                                                                                                                                                           |0            |kuttVpessi     |إِيَّاكَ نَعْبُدُ وإِيَّاكَ نَسْتَعِينُ\n",
      "\n",
      " اے اللہ ہم تیری عبادت کرتے ہیں اور تجھ سے ہی مدد مانگتے ہیں\n",
      "\n",
      "Smart 🧠 Genius 🙅\n",
      "#PTI #IK❤️                            |Rawalpindi, Pakistan 🇵🇰|2496         |687            |14269         |\n",
      "|2022-05-29 18:30:07|Dissolve the assemblies &amp; announce immediate elections! \n",
      "We want Imran Khan back! Go PDM go\n",
      "#LongMarch for liberty… https://t.co/vkqrGJFTeU |null                                                                                                                                                                                                                                                                                                               |[{\"text\":\"LongMarch\",\"indices\":[96,106]}]                                                                                                                                                                                                                                    |0            |Numrahkhalid   |null                                                                                                                                                            |راولپنڈی, پاکستان        |95           |115            |10297         |\n",
      "|2022-05-29 18:30:12|RT @ImranKhanPTI: My name is Imran Khan, I am from Pakistan and I #SupportGaza                                                                  |null                                                                                                                                                                                                                                                                                                               |[{\"text\":\"SupportGaza\",\"indices\":[66,78]}]                                                                                                                                                                                                                                   |0            |Clean_Green_PK1|null                                                                                                                                                            |Sahiwal Punjab, Pakistan |304          |71             |1694          |\n",
      "|2022-05-29 18:30:19|RT @MaddyWithKhan: They are not messing with Imran Khan, they're messing with the pulse of this nation.\n",
      "#امپورٹڈ_حکومت_نامنظور                  |null                                                                                                                                                                                                                                                                                                               |[{\"text\":\"امپورٹڈ_حکومت_نامنظور\",\"indices\":[104,126]}]                                                                                                                                                                                                                       |0            |Tahirak50083745|null                                                                                                                                                            |null                     |34           |242            |16424         |\n",
      "|2022-05-29 18:30:25|RT @ImranKhanPTI: My name is Imran Khan, I am from Pakistan and I #SupportGaza                                                                  |null                                                                                                                                                                                                                                                                                                               |[{\"text\":\"SupportGaza\",\"indices\":[66,78]}]                                                                                                                                                                                                                                   |0            |ShehzadSohail9 |Shehzad sohail                                                                                                                                                  |null                     |58           |38             |12320         |\n",
      "|2022-05-29 18:30:33|RT @ali1mtiaz: Imagine outrage if Imran Khan called her  \" 2 number \" aurat !\n",
      "\n",
      " #CrimeMinisterRejected https://t.co/FgE0is0J0F                  |null                                                                                                                                                                                                                                                                                                               |[{\"text\":\"CrimeMinisterRejected\",\"indices\":[80,102]}]                                                                                                                                                                                                                        |0            |AbdulQayyum998 |Software Architect. web3, java, http://blockchain.Love Big data , AI, ML, #SpaceX ,#Tesla                                                                       |Newyork USA              |5626         |6167           |24453         |\n",
      "|2022-05-29 18:30:39|RT @TBajwa7: This was not a Jalsa but merely a worker's convention in Charsadah. Imran Khan continues to hold huge gatherings across Pakist…    |This was not a Jalsa but merely a worker's convention in Charsadah. Imran Khan continues to hold huge gatherings across Pakistan.\n",
      "#CrimeMinisterRejected \n",
      "https://t.co/NqWeIFSqYo                                                                                                                                  |[]                                                                                                                                                                                                                                                                           |0            |Daneensaeed    |null                                                                                                                                                            |null                     |193          |131            |20335         |\n",
      "|2022-05-29 18:30:43|RT @Warraichie: #ISPR #MaryamNawazSharif #bilawalbhutto #shameless  #امپورٹڈ_حکومت_نامنظور #OverseasPakistanis \n",
      "\n",
      "No wonder Overseas Pakista…    |#ISPR #MaryamNawazSharif #bilawalbhutto #shameless  #امپورٹڈ_حکومت_نامنظور #OverseasPakistanis \n",
      "\n",
      "No wonder Overseas Pakistanis can’t get voting rights.                                                                                                                                                            |[{\"text\":\"ISPR\",\"indices\":[16,21]}, {\"text\":\"MaryamNawazSharif\",\"indices\":[22,40]}, {\"text\":\"bilawalbhutto\",\"indices\":[41,55]}, {\"text\":\"shameless\",\"indices\":[56,66]}, {\"text\":\"امپورٹڈ_حکومت_نامنظور\",\"indices\":[68,90]}, {\"text\":\"OverseasPakistanis\",\"indices\":[91,110]}]|0            |YousifB48749828|null                                                                                                                                                            |null                     |65           |132            |14535         |\n",
      "|2022-05-29 18:30:48|RT @MastaniFarah: @PTIofficial King of Hearts\n",
      "Imran khan \n",
      "#SaluteToMarchers https://t.co/ZY2P0PKb2f                                             |null                                                                                                                                                                                                                                                                                                               |[{\"text\":\"SaluteToMarchers\",\"indices\":[58,75]}]                                                                                                                                                                                                                              |0            |IsaJaneParadise|Public Figure ❤ We are Brother & Sister and we are Youtubers.\n",
      "Our Channel Link 👇                                                                               |null                     |66           |136            |28758         |\n",
      "|2022-05-29 18:29:59|RT @ImranKhanPTI: My name is Imran Khan, I am from Pakistan and I #SupportGaza                                                                  |null                                                                                                                                                                                                                                                                                                               |[{\"text\":\"SupportGaza\",\"indices\":[66,78]}]                                                                                                                                                                                                                                   |0            |KhiljiYaqoob   |Stability is the name of ABILITY👣 Jo ky muj Mai bilkol Nahi hai💦                                                                                              |مجھے خود نہیں پتہ        |231          |139            |2508          |\n",
      "|2022-05-29 18:30:03|RT @jawadahmadone: Imran Khan's politics of lies.PTI people are spreading a false propaganda by creating a fake account of Malik Riaz. So f…    |Imran Khan's politics of lies.PTI people are spreading a false propaganda by creating a fake account of Malik Riaz. So far, neither Imran Khan nor Malik Riaz or Asif Zardari have made any statement about the audio. It is quite clear that Imran Khan had asked Asif Zardari for NRO. https://t.co/DoefmpIAQD   |[]                                                                                                                                                                                                                                                                           |0            |tanwirr_1      |Dil Dil Pakistan Nawaz Sharif Zindabad #PMLNZindabad #MainBheeNawazHoon #MaryemMeriAwaz #PakistanZindabad #StayStrongNawazSharif #votekoizzatdo #BringIK2justice|Almere, Nederland        |208          |1037           |168475        |\n",
      "|2022-05-29 18:30:06|RT @KaliwalYam: This is how Imran Khan saved Pakistan otherwise imported government's plan was to set Pakistan on fire.\n",
      "\n",
      "#CrimeMinisterReje…    |This is how Imran Khan saved Pakistan otherwise imported government's plan was to set Pakistan on fire.\n",
      "\n",
      "#CrimeMinisterRejected https://t.co/8TaeVFWNfH                                                                                                                                                            |[]                                                                                                                                                                                                                                                                           |0            |OptimistTweet2 |I’m not sarcastic. I’m just intelligent beyond your understanding!                                                                                              |null                     |3339         |597            |32755         |\n",
      "|2022-05-29 18:30:08|RT @HRA_07: One of the reasons for removing Imran Khan under Regime Change is that he was not recognizing Israel according to Quaid-e-Azam'…    |One of the reasons for removing Imran Khan under Regime Change is that he was not recognizing Israel according to Quaid-e-Azam's ideology but now the imported govt is holding meetings with Israel at the behest of its master America. Shame !!!\n",
      "#اسرائیلی_ایجنٹ_نامنظور https://t.co/zpkmkPm5Cm                 |[]                                                                                                                                                                                                                                                                           |0            |altamash_e     |null                                                                                                                                                            |null                     |52           |17             |1023          |\n",
      "|2022-05-29 18:30:15|RT @ImranKhanPTI: My name is Imran Khan, I am from Pakistan and I #SupportGaza                                                                  |null                                                                                                                                                                                                                                                                                                               |[{\"text\":\"SupportGaza\",\"indices\":[66,78]}]                                                                                                                                                                                                                                   |0            |Zeeshan12021997|automobile engineer                                                                                                                                             |Lahore, Pakistan         |26           |4              |664           |\n",
      "|2022-05-29 18:30:20|Dissolve the assemblies &amp; announce immediate elections! \n",
      "We want Imran Khan back! Go PDM go\n",
      "#LongMarch for liberty… https://t.co/VgFRddTcLH |null                                                                                                                                                                                                                                                                                                               |[{\"text\":\"LongMarch\",\"indices\":[96,106]}]                                                                                                                                                                                                                                    |0            |Numrahkhalid   |null                                                                                                                                                            |راولپنڈی, پاکستان        |95           |115            |10298         |\n",
      "|2022-05-29 18:30:32|RT @FawadKhattakPTI: Imran Khan met with two young PTI workers from Charsadda who were injured during \"Haqeeqi Azadi March\".\n",
      "\n",
      "😍💯\n",
      "#SaluteToM…  |Imran Khan met with two young PTI workers from Charsadda who were injured during \"Haqeeqi Azadi March\".\n",
      "\n",
      "😍💯\n",
      "#SaluteToMarchers https://t.co/pI955dKcK1                                                                                                                                                            |[]                                                                                                                                                                                                                                                                           |0            |Zafaroo7       |PTI KP Official SMT || Head PTI North Waziristan SMT || SPIR, QAU || Liverpool FC || Tweets are PERSONAL ||                                                     |Waziristan/Peshawar      |1246         |6063           |112216        |\n",
      "|2022-05-29 18:30:34|RT @TZ_PTI: This was &amp; still is Imran khan's stance about forming relations with Isreal, the same as Quaid e Azam's...!!\n",
      "This was one of th…|This was &amp; still is Imran khan's stance about forming relations with Isreal, the same as Quaid e Azam's...!!\n",
      "This was one of the many reasons why my leader was removed from his office in such a haste because he would've never let this happen\n",
      "@PTIofficial\n",
      "\n",
      "#اسرائیلی_ایجنٹ_نامنظور https://t.co/eLW9sSRTSk|[]                                                                                                                                                                                                                                                                           |0            |abidlento46    |I am Pakistani...and it specifies my  friend and foe.                                                                                                           |Pakistan                 |782          |466            |3269          |\n",
      "|2022-05-29 18:30:42|RT @ImranKhanPTI: My name is Imran Khan, I am from Pakistan and I #SupportGaza                                                                  |null                                                                                                                                                                                                                                                                                                               |[{\"text\":\"SupportGaza\",\"indices\":[66,78]}]                                                                                                                                                                                                                                   |0            |Xmarty_Bachlor |Skilled Warrior                                                                                                                                                 |Islamabad, Pakistan      |763          |372            |7206          |\n",
      "+-------------------+------------------------------------------------------------------------------------------------------------------------------------------------+-------------------------------------------------------------------------------------------------------------------------------------------------------------------------------------------------------------------------------------------------------------------------------------------------------------------+-----------------------------------------------------------------------------------------------------------------------------------------------------------------------------------------------------------------------------------------------------------------------------+-------------+---------------+----------------------------------------------------------------------------------------------------------------------------------------------------------------+-------------------------+-------------+---------------+--------------+\n",
      "only showing top 20 rows\n",
      "\n"
     ]
    }
   ],
   "source": [
    "from pyspark.sql import SparkSession\n",
    "# initialise sparkContext\n",
    "spark = SparkSession.builder \\\n",
    "    .master('local') \\\n",
    "    .appName('TwitterAggregations') \\\n",
    "    .config('spark.executor.memory', '2gb') \\\n",
    "    .config(\"spark.cores.max\", \"2\") \\\n",
    "    .getOrCreate()\n",
    "\n",
    "sc = spark.sparkContext\n",
    "\n",
    "# using SQLContext to read parquet file\n",
    "from pyspark.sql import SQLContext\n",
    "sqlContext = SQLContext(sc)\n",
    "\n",
    "# to read parquet file\n",
    "df = sqlContext.read.parquet('parc/')\n",
    "\n",
    "df.createOrReplaceTempView(\"ParquetTable\")\n",
    "df.printSchema()\n",
    "df.show(truncate = False)"
   ]
  },
  {
   "cell_type": "code",
   "execution_count": null,
   "metadata": {},
   "outputs": [],
   "source": []
  }
 ],
 "metadata": {
  "interpreter": {
   "hash": "d4d1e4263499bec80672ea0156c357c1ee493ec2b1c70f0acce89fc37c4a6abe"
  },
  "kernelspec": {
   "display_name": "Python 3.9.7 ('base')",
   "language": "python",
   "name": "python3"
  },
  "language_info": {
   "codemirror_mode": {
    "name": "ipython",
    "version": 3
   },
   "file_extension": ".py",
   "mimetype": "text/x-python",
   "name": "python",
   "nbconvert_exporter": "python",
   "pygments_lexer": "ipython3",
   "version": "3.9.7"
  }
 },
 "nbformat": 4,
 "nbformat_minor": 4
}
